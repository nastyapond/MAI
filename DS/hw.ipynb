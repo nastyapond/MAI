{
 "cells": [
  {
   "cell_type": "code",
   "execution_count": 2,
   "metadata": {},
   "outputs": [],
   "source": [
    "import numpy as np"
   ]
  },
  {
   "cell_type": "markdown",
   "metadata": {},
   "source": [
    "40. Реализуйте метод скорейшего спуска на python и найдите минимум функции"
   ]
  },
  {
   "cell_type": "code",
   "execution_count": null,
   "metadata": {},
   "outputs": [
    {
     "name": "stdout",
     "output_type": "stream",
     "text": [
      "[0.99999228 1.99997858 0.99999228 1.99998486 0.99998908 1.99998486]\n",
      "||OX*||_2 = 3.8729\n"
     ]
    }
   ],
   "source": [
    "A = np.array([\n",
    "    [4, -1, 0, -1, 0, 0],\n",
    "    [-1, 4, -1, 0, -1, 0],\n",
    "    [0, -1, 4, 0, 0, -1],\n",
    "    [-1, 0, 0, 4, -1, 0],\n",
    "    [0, -1, 0, -1, 4, -1],\n",
    "    [0, 0, -1, 0, -1, 4]\n",
    "])\n",
    "\n",
    "b = np.array([0, 5, 0, 6, -2, 6])\n",
    "\n",
    "# Начальное приближение\n",
    "y = np.zeros_like(b)\n",
    "\n",
    "\n",
    "epsilon = 1e-4  # критерий остановки\n",
    "max_iterations = 1000  # максимальное количество итераций\n",
    "\n",
    "# метод скорейшего спуска\n",
    "for iteration in range(max_iterations):\n",
    "    r = b - A @ y \n",
    "    r_norm = np.sqrt(np.sum(r**2)) \n",
    "    if r_norm < epsilon:\n",
    "        break\n",
    "    \n",
    "    alpha = (r @ r) / (r @ (A @ r))  # вычисление шага\n",
    "    y = y + alpha * r \n",
    "\n",
    "\n",
    "norm_result = np.sqrt(np.sum(y**2)) \n",
    "print(y)\n",
    "print(f\"||OX*||_2 = {norm_result:.4f}\")\n"
   ]
  },
  {
   "cell_type": "markdown",
   "metadata": {},
   "source": [
    "41. По данным измерения двух переменных напишите приложение для нахождения уравнения линейной регрессии Y на Х. В ответе укажите сумму модулей найденных параметров. "
   ]
  },
  {
   "cell_type": "code",
   "execution_count": 8,
   "metadata": {},
   "outputs": [
    {
     "name": "stdout",
     "output_type": "stream",
     "text": [
      "\n",
      "Сумма модулей коэффициентов: 9.3960\n"
     ]
    }
   ],
   "source": [
    "X_values = np.array([51, 67, 84, 81, 101, 109, 71, 97, 109, 51, 105, 89])  # значения X\n",
    "Y_values = np.array([25, 30, 43, 44, 57, 58, 43, 46, 62, 45, 55, 45])  # значения Y\n",
    "\n",
    "# построение матрицы X для нормального уравнения\n",
    "# единичный столбец для свободного члена (intercept)\n",
    "n = len(X_values)\n",
    "X_matrix = np.column_stack((np.ones(n), X_values))  # Матрица X: [1 x]\n",
    "\n",
    "# beta = (X^T * X)^(-1) * X^T * Y\n",
    "X_t = X_matrix.T\n",
    "\n",
    "XT_X = np.dot(X_t, X_matrix)\n",
    "\n",
    "XT_X_inv = np.linalg.inv(XT_X)\n",
    "\n",
    "XT_Y = np.dot(X_t, Y_values)\n",
    "\n",
    "beta = np.dot(XT_X_inv, XT_Y)\n",
    "\n",
    "\n",
    "intercept = beta[0]  # свободный член (b)\n",
    "slope = beta[1]      # наклон (a)\n",
    "\n",
    "\n",
    "module_sum = abs(intercept) + abs(slope)\n",
    "\n",
    "print(f\"\\nСумма модулей коэффициентов: {module_sum:.4f}\")"
   ]
  },
  {
   "cell_type": "markdown",
   "metadata": {},
   "source": [
    "42. Напишите приложение для нахождения оценок параметров 𝛽0,𝛽1,…, 𝛽𝑚  по выборке в соответствии с зависимостью между переменными X и Y"
   ]
  },
  {
   "cell_type": "code",
   "execution_count": 9,
   "metadata": {},
   "outputs": [
    {
     "name": "stdout",
     "output_type": "stream",
     "text": [
      "Коэффициенты:\n",
      "b_0 = 0.4505\n",
      "b_1 = -0.4008\n",
      "b_2 = 0.4605\n",
      "b_3 = -0.0051\n",
      "\n",
      "Сумма модулей коэффициентов: 1.3169\n"
     ]
    }
   ],
   "source": [
    "X_values = np.array([0.5, 1.0, 1.5, 2.0, 2.5, 3.0, 3.5, 4.0, 4.5, 5.0, \\\n",
    "                     5.5, 6.0, 6.5, 7.0, 7.5, 8.0])\n",
    "Y_values = np.array([0.4, 0.3, 1.0, 1.7, 2.1, 3.4, 4.1, 5.8, 7.7, 9.4, \\\n",
    "                     11.4, 13.6, 15.6, 18.6, 21.2, 24.1])\n",
    "\n",
    "def polynomial_regression(X, Y, m):\n",
    "    # матирица Вандермонда для X\n",
    "    n = len(X)\n",
    "    X_van = np.zeros((n, m + 1))\n",
    "    for i in range(m + 1):\n",
    "        X_van[:, i] = X ** i\n",
    "\n",
    "    # МНК: beta = (X^T X)^(-1) X^T Y\n",
    "    X_transpose = X_van.T\n",
    "    beta = np.linalg.inv(X_transpose @ X_van) @ (X_transpose @ Y)\n",
    "\n",
    "    return beta\n",
    "\n",
    "\n",
    "# степень полинома\n",
    "m = 3\n",
    "\n",
    "beta = polynomial_regression(X_values, Y_values, m)\n",
    "\n",
    "print(\"Коэффициенты:\")\n",
    "for i, k in enumerate(beta):\n",
    "    print(f\"b_{i} = {k:.4f}\")\n",
    "\n",
    "module_sum = np.sum(np.abs(beta))\n",
    "print(f\"\\nСумма модулей коэффициентов: {module_sum:.4f}\")\n"
   ]
  },
  {
   "cell_type": "markdown",
   "metadata": {},
   "source": [
    "43. Напишите приложение для нахождения оценок параметров модели по выборке."
   ]
  },
  {
   "cell_type": "code",
   "execution_count": 10,
   "metadata": {},
   "outputs": [
    {
     "name": "stdout",
     "output_type": "stream",
     "text": [
      "beta_0 = 2.1570\n",
      "beta_1 = 0.3760\n",
      "Сумма модулей коэффициентов: 2.5331\n"
     ]
    }
   ],
   "source": [
    "X_values = np.array([1, 2, 3, 4, 5, 6, 7, 8, 9, 10, 11, 12])\n",
    "Y_values = np.array([2.11, 2.45, 2.61, 2.73, 2.75, 2.81, 2.87, 2.91, 2.96, 3.03, 3.05, 3.12])\n",
    "\n",
    "def regression_lg(X, Y):\n",
    "    # X -> ln(X)\n",
    "    ln_X = np.log(X)\n",
    "\n",
    "    n = len(X)\n",
    "\n",
    "    # beta_1 = cov(ln(X), Y) / var(ln(X))\n",
    "    # beta_0 = mean(Y) - beta_1 * mean(ln(X))\n",
    "    mean_ln_X = np.mean(ln_X)\n",
    "    mean_Y = np.mean(Y)\n",
    "\n",
    "    covariance = np.sum((ln_X - mean_ln_X) * (Y - mean_Y)) / n\n",
    "\n",
    "    # дисперсия ln(X)\n",
    "    variance = np.sum((ln_X - mean_ln_X) ** 2) / n\n",
    "\n",
    "    beta_1 = covariance / variance\n",
    "    beta_0 = mean_Y - beta_1 * mean_ln_X\n",
    "\n",
    "    return beta_0, beta_1\n",
    "\n",
    "\n",
    "beta_0, beta_1 = regression_lg(X_values, Y_values)\n",
    "\n",
    "print(f\"beta_0 = {beta_0:.4f}\")\n",
    "print(f\"beta_1 = {beta_1:.4f}\")\n",
    "\n",
    "module_sum3 = abs(beta_0) + abs(beta_1)\n",
    "print(f\"Сумма модулей коэффициентов: {module_sum3:.4f}\")\n"
   ]
  },
  {
   "cell_type": "markdown",
   "metadata": {},
   "source": [
    "44. Напишите приложение для нахождения оценок параметров модели по выборке."
   ]
  },
  {
   "cell_type": "code",
   "execution_count": 11,
   "metadata": {},
   "outputs": [
    {
     "name": "stdout",
     "output_type": "stream",
     "text": [
      "b0 = -0.8626\n",
      "b1 = 0.9135\n"
     ]
    }
   ],
   "source": [
    "X_values = np.array([1, 2, 3, 4, 5, 6, 7, 8, 9, 10, 11, 12])\n",
    "Y_values = np.array([0.10, 0.21, 0.43, 0.51, 0.62, 0.81, 1.01, 1.23, 1.47, 1.53, 1.75, 2.25])\n",
    "\n",
    "# экспоненциальный компонент\n",
    "Z = np.exp(0.1 * X_values)\n",
    "\n",
    "n = len(X_values)\n",
    "A = np.zeros((n, 2))\n",
    "A[:, 0] = 1  # столбец b0\n",
    "A[:, 1] = Z  # столбец b1\n",
    "\n",
    "\n",
    "A_T = A.T\n",
    "A_TA = np.dot(A_T, A)\n",
    "A_TY = np.dot(A_T, Y_values)\n",
    "\n",
    "# МНК: A_T * A * b = A_T * Y\n",
    "coeff = np.linalg.solve(A_TA, A_TY)\n",
    "\n",
    "b0, b1 = coeff\n",
    "print(f\"b0 = {b0:.4f}\")\n",
    "print(f\"b1 = {b1:.4f}\")"
   ]
  },
  {
   "cell_type": "markdown",
   "metadata": {},
   "source": [
    "45. Напишите приложение для нахождения оценок параметров модели y =𝛽0+𝛽1𝑥+𝛽2sin8𝑥 по выборке. "
   ]
  },
  {
   "cell_type": "code",
   "execution_count": 3,
   "metadata": {},
   "outputs": [
    {
     "name": "stdout",
     "output_type": "stream",
     "text": [
      "Оценки параметров модели:\n",
      "β0 = -4.494, β1 = 1.947, β2 = -0.199\n"
     ]
    }
   ],
   "source": [
    "x = np.array([2.11, 2.45, 2.61, 2.73, 2.75, 2.81, 2.87, 2.91, 2.96, 3.03, 3.05, 3.12])\n",
    "y = np.array([0.10, 0.21, 0.43, 0.51, 0.62, 0.81, 1.01, 1.23, 1.47, 1.53, 1.75, 2.25])\n",
    "\n",
    "\n",
    "X = np.column_stack((np.ones_like(x), x, np.sin(8 * x)))\n",
    "\n",
    "# МНК\n",
    "beta = np.linalg.inv(X.T @ X) @ X.T @ y\n",
    "\n",
    "\n",
    "beta_0, beta_1, beta_2 = beta\n",
    "print(f\"Оценки параметров модели:\")\n",
    "print(f\"β0 = {beta_0:.3f}, β1 = {beta_1:.3f}, β2 = {beta_2:.3f}\")\n"
   ]
  }
 ],
 "metadata": {
  "kernelspec": {
   "display_name": "Python 3",
   "language": "python",
   "name": "python3"
  },
  "language_info": {
   "codemirror_mode": {
    "name": "ipython",
    "version": 3
   },
   "file_extension": ".py",
   "mimetype": "text/x-python",
   "name": "python",
   "nbconvert_exporter": "python",
   "pygments_lexer": "ipython3",
   "version": "3.11.9"
  }
 },
 "nbformat": 4,
 "nbformat_minor": 2
}
