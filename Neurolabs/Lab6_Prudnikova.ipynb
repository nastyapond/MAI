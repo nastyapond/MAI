{
 "cells": [
  {
   "cell_type": "markdown",
   "id": "5de421ec",
   "metadata": {},
   "source": [
    "## Лабораторная работа №6\n",
    "#### *Прудникова Анастасия М8О-408Б-20*\n",
    "*Вариант 24*\n"
   ]
  },
  {
   "cell_type": "markdown",
   "id": "3dc02cf4",
   "metadata": {},
   "source": [
    "Целью работы является исследование свойств слоя Кохонена, карты Кохонена, а также сетей векторного квантования, обучаемых с учителем, алгоритмов обучения, а также применение сетей в задачах кластеризации и классификации.\n",
    "Основные этапы работы:\n",
    "1. Использовать слой Кохонена для выполнения кластеризации множества точек. Проверитькачество разбиения.\n",
    "2. Использовать карту Кохонена для выполнения кластеризации множества точек.\n",
    "3. Использовать карту Кохонена для нахождения одного из решений задачи коммивояжера.\n",
    "4. Использовать сеть векторного квантования, обучаемую с учителем, (LVQ-сеть) для классификации точек в случае, когда классы не являются линейно разделимыми."
   ]
  },
  {
   "cell_type": "code",
   "execution_count": 1,
   "id": "2ad94ef3",
   "metadata": {},
   "outputs": [],
   "source": [
    "import matplotlib.pyplot as plt\n",
    "import numpy as np\n",
    "import copy\n",
    "import tqdm"
   ]
  },
  {
   "cell_type": "code",
   "execution_count": 2,
   "id": "3e071ae7",
   "metadata": {},
   "outputs": [],
   "source": [
    "# Ввод\n",
    "data = [\n",
    "    [0, 0.8],\n",
    "    [-1.2, 0.3],\n",
    "    [-0.5, -0.5],\n",
    "    [0.2, 1],\n",
    "    [-1, 0.5],\n",
    "    [1.2, -1],\n",
    "    [-0.7, -0.1],\n",
    "    [1.1, 0],\n",
    "    [-0.7, 0.1],\n",
    "    [0.2, -0.3],\n",
    "    [-1.5, 0.6],\n",
    "    [0, -0.4]\n",
    "]"
   ]
  },
  {
   "cell_type": "code",
   "execution_count": 3,
   "id": "2b3241ba",
   "metadata": {},
   "outputs": [],
   "source": [
    "# класс сети Кохонена для кластеризации\n",
    "class Kohonen:\n",
    "    def __init__(self, features, width, height):\n",
    "        self._features = features\n",
    "        self._width = width\n",
    "        self._height = height\n",
    "        self._weights = np.random.randn(width * height, features)\n",
    "        self._distances = np.zeros((width * height, width * height))\n",
    "\n",
    "        kohonen_map = np.array([[x, y] for y in range(height) for x in range(width)])\n",
    "        for i, p in enumerate(kohonen_map):\n",
    "            self._distances[i] = np.linalg.norm(kohonen_map - p, axis=1)        \n",
    "\n",
    "    def train(self, data, epoch=50):\n",
    "        start_ef_width = max(self._width, self._height) / 2\n",
    "        ef_width_rate = epoch / np.log(start_ef_width)\n",
    "        shuffle_data = copy.copy(data)\n",
    "\n",
    "        for i in tqdm.tqdm(range(epoch)):\n",
    "            np.random.shuffle(shuffle_data)\n",
    "            ef_width = start_ef_width * np.exp(-i / ef_width_rate)\n",
    "            lr = np.exp(-i / epoch)\n",
    "\n",
    "            for x in shuffle_data:\n",
    "                x_distances = np.linalg.norm(self._weights - x, axis=1)\n",
    "                win_point = np.argmin(x_distances)\n",
    "\n",
    "                for i, d in enumerate(self._distances[win_point]):\n",
    "                    tn = np.exp(-d**2 / (2 * ef_width**2))\n",
    "                    self._weights[i] += (x - self._weights[i]) * lr * tn\n",
    "\n",
    "    @property\n",
    "    def reshape_weights(self):\n",
    "        return np.array(self._weights.reshape((self._height,self._width, self._features)))\n",
    "\n",
    "    @property\n",
    "    def scale_weights(self):\n",
    "        return ((self._weights - np.min(self._weights, axis=0)) / (np.max(self._weights, axis=0) - np.min(self._weights, axis=0))).reshape(\n",
    "            (self._height, self._width, self._features))"
   ]
  },
  {
   "cell_type": "code",
   "execution_count": 4,
   "id": "cdc4a8e7",
   "metadata": {},
   "outputs": [
    {
     "name": "stderr",
     "output_type": "stream",
     "text": [
      "100%|██████████| 50/50 [00:17<00:00,  2.80it/s]\n"
     ]
    }
   ],
   "source": [
    "model = Kohonen(2, 50, 50)\n",
    "\n",
    "model.train(data)"
   ]
  },
  {
   "cell_type": "code",
   "execution_count": 5,
   "id": "b4188a04",
   "metadata": {},
   "outputs": [
    {
     "data": {
      "text/plain": [
       "<matplotlib.image.AxesImage at 0x20fb0017c10>"
      ]
     },
     "execution_count": 5,
     "metadata": {},
     "output_type": "execute_result"
    },
    {
     "data": {
      "image/png": "[encoded data removed]",
      "text/plain": [
       "<Figure size 640x480 with 1 Axes>"
      ]
     },
     "metadata": {},
     "output_type": "display_data"
    }
   ],
   "source": [
    "plt.imshow(np.insert(model.scale_weights, 2, 0.5, axis = 2))"
   ]
  },
  {
   "cell_type": "markdown",
   "id": "72f8a795",
   "metadata": {},
   "source": [
    "В ходе выполнения лабораторной работы были изучены свойства слоя Кохонена, карты Кохонена и сетей векторного квантования, обучаемых с учителем. Также было проведено исследование алгоритмов обучения и применение данных сетей в задачах кластеризации и классификации."
   ]
  },
  {
   "cell_type": "code",
   "execution_count": null,
   "id": "f94a6525",
   "metadata": {},
   "outputs": [],
   "source": []
  }
 ],
 "metadata": {
  "kernelspec": {
   "display_name": "Python 3 (ipykernel)",
   "language": "python",
   "name": "python3"
  },
  "language_info": {
   "codemirror_mode": {
    "name": "ipython",
    "version": 3
   },
   "file_extension": ".py",
   "mimetype": "text/x-python",
   "name": "python",
   "nbconvert_exporter": "python",
   "pygments_lexer": "ipython3",
   "version": "3.11.4"
  }
 },
 "nbformat": 4,
 "nbformat_minor": 5
}
